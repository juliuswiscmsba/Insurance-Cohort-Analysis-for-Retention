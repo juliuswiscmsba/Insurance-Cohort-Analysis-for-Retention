{
 "cells": [
  {
   "cell_type": "code",
   "execution_count": 1,
   "id": "0e918ce7",
   "metadata": {},
   "outputs": [],
   "source": [
    "import pandas as pd\n",
    "import numpy as np\n",
    "import matplotlib.pyplot as plt\n",
    "import seaborn as sns"
   ]
  },
  {
   "cell_type": "code",
   "execution_count": 2,
   "id": "f03dacb6",
   "metadata": {},
   "outputs": [],
   "source": [
    "from statsmodels.graphics.tsaplots import plot_acf, plot_pacf\n",
    "import statsmodels.api as sm\n",
    "from statsmodels.tsa.stattools import adfuller"
   ]
  },
  {
   "cell_type": "code",
   "execution_count": 3,
   "id": "c9486b35",
   "metadata": {},
   "outputs": [],
   "source": [
    "from sklearn.metrics import r2_score"
   ]
  },
  {
   "cell_type": "code",
   "execution_count": 4,
   "id": "9e4d2054",
   "metadata": {},
   "outputs": [],
   "source": [
    "#Load data\n",
    "df = pd.read_csv('Cumulate_Retention_Curve.csv', index_col = [0])"
   ]
  },
  {
   "cell_type": "code",
   "execution_count": 5,
   "id": "8b11e341",
   "metadata": {},
   "outputs": [
    {
     "data": {
      "text/html": [
       "<div>\n",
       "<style scoped>\n",
       "    .dataframe tbody tr th:only-of-type {\n",
       "        vertical-align: middle;\n",
       "    }\n",
       "\n",
       "    .dataframe tbody tr th {\n",
       "        vertical-align: top;\n",
       "    }\n",
       "\n",
       "    .dataframe thead th {\n",
       "        text-align: right;\n",
       "    }\n",
       "</style>\n",
       "<table border=\"1\" class=\"dataframe\">\n",
       "  <thead>\n",
       "    <tr style=\"text-align: right;\">\n",
       "      <th></th>\n",
       "      <th>START_DATE</th>\n",
       "      <th>mon_diff</th>\n",
       "      <th>churn</th>\n",
       "      <th>churn_cumsum</th>\n",
       "      <th>new_user_count</th>\n",
       "      <th>cumulative_retention_rate</th>\n",
       "    </tr>\n",
       "  </thead>\n",
       "  <tbody>\n",
       "    <tr>\n",
       "      <th>0</th>\n",
       "      <td>2015-01-01</td>\n",
       "      <td>0</td>\n",
       "      <td>3002</td>\n",
       "      <td>3002</td>\n",
       "      <td>6723</td>\n",
       "      <td>0.553473</td>\n",
       "    </tr>\n",
       "    <tr>\n",
       "      <th>1</th>\n",
       "      <td>2015-01-01</td>\n",
       "      <td>1</td>\n",
       "      <td>1127</td>\n",
       "      <td>4129</td>\n",
       "      <td>6723</td>\n",
       "      <td>0.385840</td>\n",
       "    </tr>\n",
       "    <tr>\n",
       "      <th>2</th>\n",
       "      <td>2015-01-01</td>\n",
       "      <td>2</td>\n",
       "      <td>627</td>\n",
       "      <td>4756</td>\n",
       "      <td>6723</td>\n",
       "      <td>0.292578</td>\n",
       "    </tr>\n",
       "    <tr>\n",
       "      <th>3</th>\n",
       "      <td>2015-01-01</td>\n",
       "      <td>3</td>\n",
       "      <td>295</td>\n",
       "      <td>5051</td>\n",
       "      <td>6723</td>\n",
       "      <td>0.248698</td>\n",
       "    </tr>\n",
       "    <tr>\n",
       "      <th>4</th>\n",
       "      <td>2015-01-01</td>\n",
       "      <td>4</td>\n",
       "      <td>195</td>\n",
       "      <td>5246</td>\n",
       "      <td>6723</td>\n",
       "      <td>0.219694</td>\n",
       "    </tr>\n",
       "  </tbody>\n",
       "</table>\n",
       "</div>"
      ],
      "text/plain": [
       "   START_DATE  mon_diff  churn  churn_cumsum  new_user_count  \\\n",
       "0  2015-01-01         0   3002          3002            6723   \n",
       "1  2015-01-01         1   1127          4129            6723   \n",
       "2  2015-01-01         2    627          4756            6723   \n",
       "3  2015-01-01         3    295          5051            6723   \n",
       "4  2015-01-01         4    195          5246            6723   \n",
       "\n",
       "   cumulative_retention_rate  \n",
       "0                   0.553473  \n",
       "1                   0.385840  \n",
       "2                   0.292578  \n",
       "3                   0.248698  \n",
       "4                   0.219694  "
      ]
     },
     "execution_count": 5,
     "metadata": {},
     "output_type": "execute_result"
    }
   ],
   "source": [
    "df.head()"
   ]
  },
  {
   "cell_type": "markdown",
   "id": "cde96fe9",
   "metadata": {},
   "source": [
    "Three methods to predict:\n",
    "\n",
    "For 0 and 1 month after cohort start date -> ARIMA\n",
    "\n",
    "For 2, 3, and 4 months after cohort start date -> Moving Average\n",
    "\n",
    "For >=5 months after cohort start date -> Average"
   ]
  },
  {
   "cell_type": "code",
   "execution_count": 6,
   "id": "42177ef1",
   "metadata": {},
   "outputs": [
    {
     "data": {
      "text/html": [
       "<div>\n",
       "<style scoped>\n",
       "    .dataframe tbody tr th:only-of-type {\n",
       "        vertical-align: middle;\n",
       "    }\n",
       "\n",
       "    .dataframe tbody tr th {\n",
       "        vertical-align: top;\n",
       "    }\n",
       "\n",
       "    .dataframe thead th {\n",
       "        text-align: right;\n",
       "    }\n",
       "</style>\n",
       "<table border=\"1\" class=\"dataframe\">\n",
       "  <thead>\n",
       "    <tr style=\"text-align: right;\">\n",
       "      <th></th>\n",
       "      <th>START_DATE</th>\n",
       "      <th>cumulative_retention_rate</th>\n",
       "    </tr>\n",
       "  </thead>\n",
       "  <tbody>\n",
       "    <tr>\n",
       "      <th>0</th>\n",
       "      <td>2015-01-01</td>\n",
       "      <td>0.553473</td>\n",
       "    </tr>\n",
       "    <tr>\n",
       "      <th>20</th>\n",
       "      <td>2015-02-01</td>\n",
       "      <td>0.692213</td>\n",
       "    </tr>\n",
       "    <tr>\n",
       "      <th>39</th>\n",
       "      <td>2015-03-01</td>\n",
       "      <td>0.696401</td>\n",
       "    </tr>\n",
       "    <tr>\n",
       "      <th>60</th>\n",
       "      <td>2015-04-01</td>\n",
       "      <td>0.706884</td>\n",
       "    </tr>\n",
       "    <tr>\n",
       "      <th>81</th>\n",
       "      <td>2015-05-01</td>\n",
       "      <td>0.683988</td>\n",
       "    </tr>\n",
       "  </tbody>\n",
       "</table>\n",
       "</div>"
      ],
      "text/plain": [
       "    START_DATE  cumulative_retention_rate\n",
       "0   2015-01-01                   0.553473\n",
       "20  2015-02-01                   0.692213\n",
       "39  2015-03-01                   0.696401\n",
       "60  2015-04-01                   0.706884\n",
       "81  2015-05-01                   0.683988"
      ]
     },
     "execution_count": 6,
     "metadata": {},
     "output_type": "execute_result"
    }
   ],
   "source": [
    "#m=0\n",
    "df0 = df[df['mon_diff']==0][['START_DATE','cumulative_retention_rate']]\n",
    "df0_train = df0[df0['START_DATE'] < '2019-01-01']\n",
    "df0_test = df0[df0['START_DATE'] >= '2019-01-01']\n",
    "df0_train.head()"
   ]
  },
  {
   "cell_type": "code",
   "execution_count": 7,
   "id": "d1f1b6d2",
   "metadata": {},
   "outputs": [
    {
     "name": "stdout",
     "output_type": "stream",
     "text": [
      "ADF Statistics: -1.7089885853741356\n",
      "p value 0.426\n",
      "critical values:\n",
      "\t1%: -3.578\n",
      "\t5%: -2.925\n",
      "\t10%: -2.601\n"
     ]
    }
   ],
   "source": [
    "#Stationary Check\n",
    "result=adfuller(df0_train['cumulative_retention_rate'])\n",
    "print(f'ADF Statistics: {result[0]}')\n",
    "print(f'p value {round(result[1],3)}')\n",
    "print('critical values:')\n",
    "for key, value in result[4].items():\n",
    "    print(f'\\t{key}: {round(value,3)}')"
   ]
  },
  {
   "cell_type": "code",
   "execution_count": 9,
   "id": "2f19a9b9",
   "metadata": {},
   "outputs": [
    {
     "name": "stderr",
     "output_type": "stream",
     "text": [
      "/var/folders/n9/t_j1751j2636q1vf1wsyppsw0000gn/T/ipykernel_58133/1700808926.py:2: SettingWithCopyWarning: \n",
      "A value is trying to be set on a copy of a slice from a DataFrame.\n",
      "Try using .loc[row_indexer,col_indexer] = value instead\n",
      "\n",
      "See the caveats in the documentation: https://pandas.pydata.org/pandas-docs/stable/user_guide/indexing.html#returning-a-view-versus-a-copy\n",
      "  df0_train['cumulative_retention_rate'] = df0_train['cumulative_retention_rate'].diff(periods=1)\n",
      "/var/folders/n9/t_j1751j2636q1vf1wsyppsw0000gn/T/ipykernel_58133/1700808926.py:3: SettingWithCopyWarning: \n",
      "A value is trying to be set on a copy of a slice from a DataFrame\n",
      "\n",
      "See the caveats in the documentation: https://pandas.pydata.org/pandas-docs/stable/user_guide/indexing.html#returning-a-view-versus-a-copy\n",
      "  df0_train.dropna(inplace=True)\n"
     ]
    }
   ],
   "source": [
    "#Deal with non stationary (diff)\n",
    "df0_train['cumulative_retention_rate'] = df0_train['cumulative_retention_rate'].diff(periods=1)\n",
    "df0_train.dropna(inplace=True)"
   ]
  },
  {
   "cell_type": "code",
   "execution_count": 10,
   "id": "b8ec525c",
   "metadata": {},
   "outputs": [
    {
     "name": "stdout",
     "output_type": "stream",
     "text": [
      "ADF Statistics: -8.031803003860274\n",
      "p value 0.0\n",
      "critical values:\n",
      "\t1%: -3.581\n",
      "\t5%: -2.927\n",
      "\t10%: -2.602\n"
     ]
    }
   ],
   "source": [
    "#Stationary Check\n",
    "result=adfuller(df0_train['cumulative_retention_rate'])\n",
    "print(f'ADF Statistics: {result[0]}')\n",
    "print(f'p value {round(result[1],3)}')\n",
    "print('critical values:')\n",
    "for key, value in result[4].items():\n",
    "    print(f'\\t{key}: {round(value,3)}')"
   ]
  },
  {
   "cell_type": "code",
   "execution_count": 11,
   "id": "02f479cb",
   "metadata": {},
   "outputs": [
    {
     "name": "stderr",
     "output_type": "stream",
     "text": [
      "/Users/mingtsung/opt/miniconda3/envs/tensorflow/lib/python3.9/site-packages/statsmodels/graphics/tsaplots.py:348: FutureWarning: The default method 'yw' can produce PACF values outside of the [-1,1] interval. After 0.13, the default will change tounadjusted Yule-Walker ('ywm'). You can use this method now by setting method='ywm'.\n",
      "  warnings.warn(\n"
     ]
    },
    {
     "data": {
      "image/png": "[encoded data removed]",
      "text/plain": [
       "<Figure size 1500x600 with 2 Axes>"
      ]
     },
     "metadata": {},
     "output_type": "display_data"
    }
   ],
   "source": [
    "#Observe acf and pacf \n",
    "fig, ax = plt.subplots(2,1,figsize=(15,6))\n",
    "plot_acf(df0_train['cumulative_retention_rate'], lags=20, alpha=0.05, ax=ax[0])\n",
    "plot_pacf(df0_train['cumulative_retention_rate'], lags=20, alpha=0.05, ax=ax[1])\n",
    "fig.tight_layout()\n",
    "plt.show()"
   ]
  },
  {
   "cell_type": "code",
   "execution_count": 12,
   "id": "dfc860f2",
   "metadata": {},
   "outputs": [
    {
     "name": "stderr",
     "output_type": "stream",
     "text": [
      "/Users/mingtsung/opt/miniconda3/envs/tensorflow/lib/python3.9/site-packages/statsmodels/tsa/base/tsa_model.py:471: ValueWarning: An unsupported index was provided and will be ignored when e.g. forecasting.\n",
      "  self._init_dates(dates, freq)\n",
      "/Users/mingtsung/opt/miniconda3/envs/tensorflow/lib/python3.9/site-packages/statsmodels/tsa/base/tsa_model.py:471: ValueWarning: An unsupported index was provided and will be ignored when e.g. forecasting.\n",
      "  self._init_dates(dates, freq)\n",
      "/Users/mingtsung/opt/miniconda3/envs/tensorflow/lib/python3.9/site-packages/statsmodels/tsa/base/tsa_model.py:471: ValueWarning: An unsupported index was provided and will be ignored when e.g. forecasting.\n",
      "  self._init_dates(dates, freq)\n",
      "/Users/mingtsung/opt/miniconda3/envs/tensorflow/lib/python3.9/site-packages/statsmodels/tsa/statespace/sarimax.py:966: UserWarning: Non-stationary starting autoregressive parameters found. Using zeros as starting parameters.\n",
      "  warn('Non-stationary starting autoregressive parameters'\n",
      "/Users/mingtsung/opt/miniconda3/envs/tensorflow/lib/python3.9/site-packages/statsmodels/tsa/statespace/sarimax.py:978: UserWarning: Non-invertible starting MA parameters found. Using zeros as starting parameters.\n",
      "  warn('Non-invertible starting MA parameters found.'\n"
     ]
    },
    {
     "data": {
      "text/html": [
       "<table class=\"simpletable\">\n",
       "<caption>SARIMAX Results</caption>\n",
       "<tr>\n",
       "  <th>Dep. Variable:</th>   <td>cumulative_retention_rate</td> <th>  No. Observations:  </th>    <td>47</td>   \n",
       "</tr>\n",
       "<tr>\n",
       "  <th>Model:</th>                <td>ARIMA(2, 1, 1)</td>       <th>  Log Likelihood     </th>  <td>78.754</td> \n",
       "</tr>\n",
       "<tr>\n",
       "  <th>Date:</th>                <td>Fri, 10 Mar 2023</td>      <th>  AIC                </th> <td>-149.509</td>\n",
       "</tr>\n",
       "<tr>\n",
       "  <th>Time:</th>                    <td>19:20:29</td>          <th>  BIC                </th> <td>-142.194</td>\n",
       "</tr>\n",
       "<tr>\n",
       "  <th>Sample:</th>                      <td>0</td>             <th>  HQIC               </th> <td>-146.769</td>\n",
       "</tr>\n",
       "<tr>\n",
       "  <th></th>                           <td> - 47</td>           <th>                     </th>     <td> </td>   \n",
       "</tr>\n",
       "<tr>\n",
       "  <th>Covariance Type:</th>            <td>opg</td>            <th>                     </th>     <td> </td>   \n",
       "</tr>\n",
       "</table>\n",
       "<table class=\"simpletable\">\n",
       "<tr>\n",
       "     <td></td>       <th>coef</th>     <th>std err</th>      <th>z</th>      <th>P>|z|</th>  <th>[0.025</th>    <th>0.975]</th>  \n",
       "</tr>\n",
       "<tr>\n",
       "  <th>ar.L1</th>  <td>   -0.0635</td> <td>    0.164</td> <td>   -0.386</td> <td> 0.699</td> <td>   -0.386</td> <td>    0.259</td>\n",
       "</tr>\n",
       "<tr>\n",
       "  <th>ar.L2</th>  <td>   -0.0120</td> <td>    0.167</td> <td>   -0.072</td> <td> 0.943</td> <td>   -0.339</td> <td>    0.315</td>\n",
       "</tr>\n",
       "<tr>\n",
       "  <th>ma.L1</th>  <td>   -0.9870</td> <td>    0.784</td> <td>   -1.259</td> <td> 0.208</td> <td>   -2.524</td> <td>    0.550</td>\n",
       "</tr>\n",
       "<tr>\n",
       "  <th>sigma2</th> <td>    0.0018</td> <td>    0.002</td> <td>    1.161</td> <td> 0.246</td> <td>   -0.001</td> <td>    0.005</td>\n",
       "</tr>\n",
       "</table>\n",
       "<table class=\"simpletable\">\n",
       "<tr>\n",
       "  <th>Ljung-Box (L1) (Q):</th>     <td>0.60</td> <th>  Jarque-Bera (JB):  </th> <td>2.82</td>\n",
       "</tr>\n",
       "<tr>\n",
       "  <th>Prob(Q):</th>                <td>0.44</td> <th>  Prob(JB):          </th> <td>0.24</td>\n",
       "</tr>\n",
       "<tr>\n",
       "  <th>Heteroskedasticity (H):</th> <td>0.09</td> <th>  Skew:              </th> <td>0.49</td>\n",
       "</tr>\n",
       "<tr>\n",
       "  <th>Prob(H) (two-sided):</th>    <td>0.00</td> <th>  Kurtosis:          </th> <td>3.71</td>\n",
       "</tr>\n",
       "</table><br/><br/>Warnings:<br/>[1] Covariance matrix calculated using the outer product of gradients (complex-step)."
      ],
      "text/plain": [
       "<class 'statsmodels.iolib.summary.Summary'>\n",
       "\"\"\"\n",
       "                                   SARIMAX Results                                   \n",
       "=====================================================================================\n",
       "Dep. Variable:     cumulative_retention_rate   No. Observations:                   47\n",
       "Model:                        ARIMA(2, 1, 1)   Log Likelihood                  78.754\n",
       "Date:                       Fri, 10 Mar 2023   AIC                           -149.509\n",
       "Time:                               19:20:29   BIC                           -142.194\n",
       "Sample:                                    0   HQIC                          -146.769\n",
       "                                        - 47                                         \n",
       "Covariance Type:                         opg                                         \n",
       "==============================================================================\n",
       "                 coef    std err          z      P>|z|      [0.025      0.975]\n",
       "------------------------------------------------------------------------------\n",
       "ar.L1         -0.0635      0.164     -0.386      0.699      -0.386       0.259\n",
       "ar.L2         -0.0120      0.167     -0.072      0.943      -0.339       0.315\n",
       "ma.L1         -0.9870      0.784     -1.259      0.208      -2.524       0.550\n",
       "sigma2         0.0018      0.002      1.161      0.246      -0.001       0.005\n",
       "===================================================================================\n",
       "Ljung-Box (L1) (Q):                   0.60   Jarque-Bera (JB):                 2.82\n",
       "Prob(Q):                              0.44   Prob(JB):                         0.24\n",
       "Heteroskedasticity (H):               0.09   Skew:                             0.49\n",
       "Prob(H) (two-sided):                  0.00   Kurtosis:                         3.71\n",
       "===================================================================================\n",
       "\n",
       "Warnings:\n",
       "[1] Covariance matrix calculated using the outer product of gradients (complex-step).\n",
       "\"\"\""
      ]
     },
     "execution_count": 12,
     "metadata": {},
     "output_type": "execute_result"
    }
   ],
   "source": [
    "#ARIMA model\n",
    "model0=sm.tsa.ARIMA(df0_train['cumulative_retention_rate'], order=(2,1,1))\n",
    "result0=model0.fit()\n",
    "result0.summary()"
   ]
  },
  {
   "cell_type": "code",
   "execution_count": 13,
   "id": "9b0f72a5",
   "metadata": {},
   "outputs": [
    {
     "name": "stderr",
     "output_type": "stream",
     "text": [
      "/Users/mingtsung/opt/miniconda3/envs/tensorflow/lib/python3.9/site-packages/statsmodels/tsa/base/tsa_model.py:834: ValueWarning: No supported index is available. Prediction results will be given with an integer index beginning at `start`.\n",
      "  return get_prediction_index(\n"
     ]
    },
    {
     "data": {
      "text/html": [
       "<div>\n",
       "<style scoped>\n",
       "    .dataframe tbody tr th:only-of-type {\n",
       "        vertical-align: middle;\n",
       "    }\n",
       "\n",
       "    .dataframe tbody tr th {\n",
       "        vertical-align: top;\n",
       "    }\n",
       "\n",
       "    .dataframe thead th {\n",
       "        text-align: right;\n",
       "    }\n",
       "</style>\n",
       "<table border=\"1\" class=\"dataframe\">\n",
       "  <thead>\n",
       "    <tr style=\"text-align: right;\">\n",
       "      <th>cumulative_retention_rate</th>\n",
       "      <th>mean</th>\n",
       "      <th>mean_se</th>\n",
       "      <th>mean_ci_lower</th>\n",
       "      <th>mean_ci_upper</th>\n",
       "    </tr>\n",
       "  </thead>\n",
       "  <tbody>\n",
       "    <tr>\n",
       "      <th>47</th>\n",
       "      <td>0.008526</td>\n",
       "      <td>0.042297</td>\n",
       "      <td>-0.074375</td>\n",
       "      <td>0.091428</td>\n",
       "    </tr>\n",
       "    <tr>\n",
       "      <th>48</th>\n",
       "      <td>0.007944</td>\n",
       "      <td>0.042323</td>\n",
       "      <td>-0.075008</td>\n",
       "      <td>0.090896</td>\n",
       "    </tr>\n",
       "    <tr>\n",
       "      <th>49</th>\n",
       "      <td>0.007858</td>\n",
       "      <td>0.042320</td>\n",
       "      <td>-0.075088</td>\n",
       "      <td>0.090804</td>\n",
       "    </tr>\n",
       "    <tr>\n",
       "      <th>50</th>\n",
       "      <td>0.007871</td>\n",
       "      <td>0.042325</td>\n",
       "      <td>-0.075084</td>\n",
       "      <td>0.090825</td>\n",
       "    </tr>\n",
       "    <tr>\n",
       "      <th>51</th>\n",
       "      <td>0.007871</td>\n",
       "      <td>0.042328</td>\n",
       "      <td>-0.075090</td>\n",
       "      <td>0.090831</td>\n",
       "    </tr>\n",
       "    <tr>\n",
       "      <th>52</th>\n",
       "      <td>0.007871</td>\n",
       "      <td>0.042331</td>\n",
       "      <td>-0.075096</td>\n",
       "      <td>0.090837</td>\n",
       "    </tr>\n",
       "    <tr>\n",
       "      <th>53</th>\n",
       "      <td>0.007871</td>\n",
       "      <td>0.042334</td>\n",
       "      <td>-0.075102</td>\n",
       "      <td>0.090843</td>\n",
       "    </tr>\n",
       "    <tr>\n",
       "      <th>54</th>\n",
       "      <td>0.007871</td>\n",
       "      <td>0.042337</td>\n",
       "      <td>-0.075108</td>\n",
       "      <td>0.090849</td>\n",
       "    </tr>\n",
       "    <tr>\n",
       "      <th>55</th>\n",
       "      <td>0.007871</td>\n",
       "      <td>0.042340</td>\n",
       "      <td>-0.075114</td>\n",
       "      <td>0.090855</td>\n",
       "    </tr>\n",
       "    <tr>\n",
       "      <th>56</th>\n",
       "      <td>0.007871</td>\n",
       "      <td>0.042343</td>\n",
       "      <td>-0.075120</td>\n",
       "      <td>0.090861</td>\n",
       "    </tr>\n",
       "    <tr>\n",
       "      <th>57</th>\n",
       "      <td>0.007871</td>\n",
       "      <td>0.042346</td>\n",
       "      <td>-0.075126</td>\n",
       "      <td>0.090867</td>\n",
       "    </tr>\n",
       "    <tr>\n",
       "      <th>58</th>\n",
       "      <td>0.007871</td>\n",
       "      <td>0.042349</td>\n",
       "      <td>-0.075132</td>\n",
       "      <td>0.090873</td>\n",
       "    </tr>\n",
       "  </tbody>\n",
       "</table>\n",
       "</div>"
      ],
      "text/plain": [
       "cumulative_retention_rate      mean   mean_se  mean_ci_lower  mean_ci_upper\n",
       "47                         0.008526  0.042297      -0.074375       0.091428\n",
       "48                         0.007944  0.042323      -0.075008       0.090896\n",
       "49                         0.007858  0.042320      -0.075088       0.090804\n",
       "50                         0.007871  0.042325      -0.075084       0.090825\n",
       "51                         0.007871  0.042328      -0.075090       0.090831\n",
       "52                         0.007871  0.042331      -0.075096       0.090837\n",
       "53                         0.007871  0.042334      -0.075102       0.090843\n",
       "54                         0.007871  0.042337      -0.075108       0.090849\n",
       "55                         0.007871  0.042340      -0.075114       0.090855\n",
       "56                         0.007871  0.042343      -0.075120       0.090861\n",
       "57                         0.007871  0.042346      -0.075126       0.090867\n",
       "58                         0.007871  0.042349      -0.075132       0.090873"
      ]
     },
     "execution_count": 13,
     "metadata": {},
     "output_type": "execute_result"
    }
   ],
   "source": [
    "#Prediction\n",
    "forcast_value0 = result0.get_forecast(steps=12)\n",
    "forcast_value0.summary_frame()"
   ]
  },
  {
   "cell_type": "code",
   "execution_count": 14,
   "id": "5beed3ea",
   "metadata": {},
   "outputs": [
    {
     "name": "stderr",
     "output_type": "stream",
     "text": [
      "/var/folders/n9/t_j1751j2636q1vf1wsyppsw0000gn/T/ipykernel_58133/2583355518.py:1: SettingWithCopyWarning: \n",
      "A value is trying to be set on a copy of a slice from a DataFrame.\n",
      "Try using .loc[row_indexer,col_indexer] = value instead\n",
      "\n",
      "See the caveats in the documentation: https://pandas.pydata.org/pandas-docs/stable/user_guide/indexing.html#returning-a-view-versus-a-copy\n",
      "  df0_test['cumulative_retention_rate'] = list(forcast_value0.predicted_mean)\n",
      "/var/folders/n9/t_j1751j2636q1vf1wsyppsw0000gn/T/ipykernel_58133/2583355518.py:2: FutureWarning: The frame.append method is deprecated and will be removed from pandas in a future version. Use pandas.concat instead.\n",
      "  df0_pred = df0_train.append(df0_test)\n"
     ]
    }
   ],
   "source": [
    "df0_test['cumulative_retention_rate'] = list(forcast_value0.predicted_mean)\n",
    "df0_pred = df0_train.append(df0_test)"
   ]
  },
  {
   "cell_type": "code",
   "execution_count": 15,
   "id": "4d2721a8",
   "metadata": {},
   "outputs": [],
   "source": [
    "start_retention0 = df0[df0['START_DATE'] == '2015-01-01']['cumulative_retention_rate'][0]\n",
    "df0_pred['0'] = df0_pred['cumulative_retention_rate'].cumsum() + start_retention0\n",
    "df0_retention_pred = df0_pred.tail(12)[['START_DATE','0']]"
   ]
  },
  {
   "cell_type": "code",
   "execution_count": 16,
   "id": "f83881b3",
   "metadata": {},
   "outputs": [],
   "source": [
    "df0_retention_pred['0'] = df0_retention_pred['0'].apply(lambda x: 1 if x>1 else x)"
   ]
  },
  {
   "cell_type": "code",
   "execution_count": 17,
   "id": "33a168e4",
   "metadata": {},
   "outputs": [],
   "source": [
    "df0_retention_pred = df0_retention_pred.set_index('START_DATE')"
   ]
  },
  {
   "cell_type": "code",
   "execution_count": 18,
   "id": "dff50e59",
   "metadata": {},
   "outputs": [
    {
     "data": {
      "text/html": [
       "<div>\n",
       "<style scoped>\n",
       "    .dataframe tbody tr th:only-of-type {\n",
       "        vertical-align: middle;\n",
       "    }\n",
       "\n",
       "    .dataframe tbody tr th {\n",
       "        vertical-align: top;\n",
       "    }\n",
       "\n",
       "    .dataframe thead th {\n",
       "        text-align: right;\n",
       "    }\n",
       "</style>\n",
       "<table border=\"1\" class=\"dataframe\">\n",
       "  <thead>\n",
       "    <tr style=\"text-align: right;\">\n",
       "      <th></th>\n",
       "      <th>0</th>\n",
       "    </tr>\n",
       "    <tr>\n",
       "      <th>START_DATE</th>\n",
       "      <th></th>\n",
       "    </tr>\n",
       "  </thead>\n",
       "  <tbody>\n",
       "    <tr>\n",
       "      <th>2019-01-01</th>\n",
       "      <td>0.943097</td>\n",
       "    </tr>\n",
       "    <tr>\n",
       "      <th>2019-02-01</th>\n",
       "      <td>0.951041</td>\n",
       "    </tr>\n",
       "    <tr>\n",
       "      <th>2019-03-01</th>\n",
       "      <td>0.958899</td>\n",
       "    </tr>\n",
       "    <tr>\n",
       "      <th>2019-04-01</th>\n",
       "      <td>0.966770</td>\n",
       "    </tr>\n",
       "    <tr>\n",
       "      <th>2019-05-01</th>\n",
       "      <td>0.974641</td>\n",
       "    </tr>\n",
       "  </tbody>\n",
       "</table>\n",
       "</div>"
      ],
      "text/plain": [
       "                   0\n",
       "START_DATE          \n",
       "2019-01-01  0.943097\n",
       "2019-02-01  0.951041\n",
       "2019-03-01  0.958899\n",
       "2019-04-01  0.966770\n",
       "2019-05-01  0.974641"
      ]
     },
     "execution_count": 18,
     "metadata": {},
     "output_type": "execute_result"
    }
   ],
   "source": [
    "df0_retention_pred.head()"
   ]
  },
  {
   "cell_type": "code",
   "execution_count": null,
   "id": "83e1ecab",
   "metadata": {},
   "outputs": [],
   "source": []
  },
  {
   "cell_type": "code",
   "execution_count": 19,
   "id": "51a1a92b",
   "metadata": {},
   "outputs": [
    {
     "data": {
      "text/html": [
       "<div>\n",
       "<style scoped>\n",
       "    .dataframe tbody tr th:only-of-type {\n",
       "        vertical-align: middle;\n",
       "    }\n",
       "\n",
       "    .dataframe tbody tr th {\n",
       "        vertical-align: top;\n",
       "    }\n",
       "\n",
       "    .dataframe thead th {\n",
       "        text-align: right;\n",
       "    }\n",
       "</style>\n",
       "<table border=\"1\" class=\"dataframe\">\n",
       "  <thead>\n",
       "    <tr style=\"text-align: right;\">\n",
       "      <th></th>\n",
       "      <th>START_DATE</th>\n",
       "      <th>cumulative_retention_rate</th>\n",
       "    </tr>\n",
       "  </thead>\n",
       "  <tbody>\n",
       "    <tr>\n",
       "      <th>1</th>\n",
       "      <td>2015-01-01</td>\n",
       "      <td>0.385840</td>\n",
       "    </tr>\n",
       "    <tr>\n",
       "      <th>21</th>\n",
       "      <td>2015-02-01</td>\n",
       "      <td>0.509821</td>\n",
       "    </tr>\n",
       "    <tr>\n",
       "      <th>40</th>\n",
       "      <td>2015-03-01</td>\n",
       "      <td>0.553407</td>\n",
       "    </tr>\n",
       "    <tr>\n",
       "      <th>61</th>\n",
       "      <td>2015-04-01</td>\n",
       "      <td>0.565727</td>\n",
       "    </tr>\n",
       "    <tr>\n",
       "      <th>82</th>\n",
       "      <td>2015-05-01</td>\n",
       "      <td>0.533204</td>\n",
       "    </tr>\n",
       "  </tbody>\n",
       "</table>\n",
       "</div>"
      ],
      "text/plain": [
       "    START_DATE  cumulative_retention_rate\n",
       "1   2015-01-01                   0.385840\n",
       "21  2015-02-01                   0.509821\n",
       "40  2015-03-01                   0.553407\n",
       "61  2015-04-01                   0.565727\n",
       "82  2015-05-01                   0.533204"
      ]
     },
     "execution_count": 19,
     "metadata": {},
     "output_type": "execute_result"
    }
   ],
   "source": [
    "#m=1\n",
    "df1 = df[df['mon_diff']==1][['START_DATE','cumulative_retention_rate']]\n",
    "df1_train = df1[df1['START_DATE'] < '2019-01-01']\n",
    "df1_test = df1[df1['START_DATE'] >= '2019-01-01']\n",
    "df1_train.head()"
   ]
  },
  {
   "cell_type": "code",
   "execution_count": 20,
   "id": "f127d640",
   "metadata": {},
   "outputs": [
    {
     "name": "stdout",
     "output_type": "stream",
     "text": [
      "ADF Statistics: -1.751465646315563\n",
      "p value 0.405\n",
      "critical values:\n",
      "\t1%: -3.578\n",
      "\t5%: -2.925\n",
      "\t10%: -2.601\n"
     ]
    }
   ],
   "source": [
    "#Stationary Check\n",
    "result=adfuller(df1_train['cumulative_retention_rate'])\n",
    "print(f'ADF Statistics: {result[0]}')\n",
    "print(f'p value {round(result[1],3)}')\n",
    "print('critical values:')\n",
    "for key, value in result[4].items():\n",
    "    print(f'\\t{key}: {round(value,3)}')"
   ]
  },
  {
   "cell_type": "code",
   "execution_count": 21,
   "id": "fe04bd53",
   "metadata": {},
   "outputs": [
    {
     "name": "stderr",
     "output_type": "stream",
     "text": [
      "/var/folders/n9/t_j1751j2636q1vf1wsyppsw0000gn/T/ipykernel_58133/1040650940.py:2: SettingWithCopyWarning: \n",
      "A value is trying to be set on a copy of a slice from a DataFrame.\n",
      "Try using .loc[row_indexer,col_indexer] = value instead\n",
      "\n",
      "See the caveats in the documentation: https://pandas.pydata.org/pandas-docs/stable/user_guide/indexing.html#returning-a-view-versus-a-copy\n",
      "  df1_train['cumulative_retention_rate'] = df1_train['cumulative_retention_rate'].diff(periods=1)\n",
      "/var/folders/n9/t_j1751j2636q1vf1wsyppsw0000gn/T/ipykernel_58133/1040650940.py:3: SettingWithCopyWarning: \n",
      "A value is trying to be set on a copy of a slice from a DataFrame\n",
      "\n",
      "See the caveats in the documentation: https://pandas.pydata.org/pandas-docs/stable/user_guide/indexing.html#returning-a-view-versus-a-copy\n",
      "  df1_train.dropna(inplace=True)\n"
     ]
    },
    {
     "data": {
      "text/html": [
       "<div>\n",
       "<style scoped>\n",
       "    .dataframe tbody tr th:only-of-type {\n",
       "        vertical-align: middle;\n",
       "    }\n",
       "\n",
       "    .dataframe tbody tr th {\n",
       "        vertical-align: top;\n",
       "    }\n",
       "\n",
       "    .dataframe thead th {\n",
       "        text-align: right;\n",
       "    }\n",
       "</style>\n",
       "<table border=\"1\" class=\"dataframe\">\n",
       "  <thead>\n",
       "    <tr style=\"text-align: right;\">\n",
       "      <th></th>\n",
       "      <th>START_DATE</th>\n",
       "      <th>cumulative_retention_rate</th>\n",
       "    </tr>\n",
       "  </thead>\n",
       "  <tbody>\n",
       "    <tr>\n",
       "      <th>21</th>\n",
       "      <td>2015-02-01</td>\n",
       "      <td>0.123981</td>\n",
       "    </tr>\n",
       "    <tr>\n",
       "      <th>40</th>\n",
       "      <td>2015-03-01</td>\n",
       "      <td>0.043586</td>\n",
       "    </tr>\n",
       "    <tr>\n",
       "      <th>61</th>\n",
       "      <td>2015-04-01</td>\n",
       "      <td>0.012319</td>\n",
       "    </tr>\n",
       "    <tr>\n",
       "      <th>82</th>\n",
       "      <td>2015-05-01</td>\n",
       "      <td>-0.032523</td>\n",
       "    </tr>\n",
       "    <tr>\n",
       "      <th>98</th>\n",
       "      <td>2015-06-01</td>\n",
       "      <td>-0.019537</td>\n",
       "    </tr>\n",
       "  </tbody>\n",
       "</table>\n",
       "</div>"
      ],
      "text/plain": [
       "    START_DATE  cumulative_retention_rate\n",
       "21  2015-02-01                   0.123981\n",
       "40  2015-03-01                   0.043586\n",
       "61  2015-04-01                   0.012319\n",
       "82  2015-05-01                  -0.032523\n",
       "98  2015-06-01                  -0.019537"
      ]
     },
     "execution_count": 21,
     "metadata": {},
     "output_type": "execute_result"
    }
   ],
   "source": [
    "#Deal with non stationary (diff)\n",
    "df1_train['cumulative_retention_rate'] = df1_train['cumulative_retention_rate'].diff(periods=1)\n",
    "df1_train.dropna(inplace=True)\n",
    "df1_train.head()"
   ]
  },
  {
   "cell_type": "code",
   "execution_count": 22,
   "id": "7e737fb7",
   "metadata": {},
   "outputs": [
    {
     "name": "stdout",
     "output_type": "stream",
     "text": [
      "ADF Statistics: -4.79553529422162\n",
      "p value 0.0\n",
      "critical values:\n",
      "\t1%: -3.627\n",
      "\t5%: -2.946\n",
      "\t10%: -2.612\n"
     ]
    }
   ],
   "source": [
    "#Stationary Check\n",
    "result=adfuller(df1_train['cumulative_retention_rate'])\n",
    "print(f'ADF Statistics: {result[0]}')\n",
    "print(f'p value {round(result[1],3)}')\n",
    "print('critical values:')\n",
    "for key, value in result[4].items():\n",
    "    print(f'\\t{key}: {round(value,3)}')"
   ]
  },
  {
   "cell_type": "code",
   "execution_count": 23,
   "id": "d0209495",
   "metadata": {},
   "outputs": [
    {
     "name": "stderr",
     "output_type": "stream",
     "text": [
      "/Users/mingtsung/opt/miniconda3/envs/tensorflow/lib/python3.9/site-packages/statsmodels/graphics/tsaplots.py:348: FutureWarning: The default method 'yw' can produce PACF values outside of the [-1,1] interval. After 0.13, the default will change tounadjusted Yule-Walker ('ywm'). You can use this method now by setting method='ywm'.\n",
      "  warnings.warn(\n"
     ]
    },
    {
     "data": {
      "image/png": "[encoded data removed]",
      "text/plain": [
       "<Figure size 1500x600 with 2 Axes>"
      ]
     },
     "metadata": {},
     "output_type": "display_data"
    }
   ],
   "source": [
    "#Observe acf and pacf \n",
    "fig, ax = plt.subplots(2,1,figsize=(15,6))\n",
    "plot_acf(df1_train['cumulative_retention_rate'], lags=20, alpha=0.05, ax=ax[0])\n",
    "plot_pacf(df1_train['cumulative_retention_rate'], lags=20, alpha=0.05, ax=ax[1])\n",
    "fig.tight_layout()\n",
    "plt.show()"
   ]
  },
  {
   "cell_type": "code",
   "execution_count": 24,
   "id": "eb4dd974",
   "metadata": {},
   "outputs": [
    {
     "name": "stderr",
     "output_type": "stream",
     "text": [
      "/Users/mingtsung/opt/miniconda3/envs/tensorflow/lib/python3.9/site-packages/statsmodels/tsa/base/tsa_model.py:471: ValueWarning: An unsupported index was provided and will be ignored when e.g. forecasting.\n",
      "  self._init_dates(dates, freq)\n",
      "/Users/mingtsung/opt/miniconda3/envs/tensorflow/lib/python3.9/site-packages/statsmodels/tsa/base/tsa_model.py:471: ValueWarning: An unsupported index was provided and will be ignored when e.g. forecasting.\n",
      "  self._init_dates(dates, freq)\n",
      "/Users/mingtsung/opt/miniconda3/envs/tensorflow/lib/python3.9/site-packages/statsmodels/tsa/base/tsa_model.py:471: ValueWarning: An unsupported index was provided and will be ignored when e.g. forecasting.\n",
      "  self._init_dates(dates, freq)\n",
      "/Users/mingtsung/opt/miniconda3/envs/tensorflow/lib/python3.9/site-packages/statsmodels/tsa/statespace/sarimax.py:966: UserWarning: Non-stationary starting autoregressive parameters found. Using zeros as starting parameters.\n",
      "  warn('Non-stationary starting autoregressive parameters'\n",
      "/Users/mingtsung/opt/miniconda3/envs/tensorflow/lib/python3.9/site-packages/statsmodels/base/model.py:604: ConvergenceWarning: Maximum Likelihood optimization failed to converge. Check mle_retvals\n",
      "  warnings.warn(\"Maximum Likelihood optimization failed to \"\n"
     ]
    },
    {
     "data": {
      "text/html": [
       "<table class=\"simpletable\">\n",
       "<caption>SARIMAX Results</caption>\n",
       "<tr>\n",
       "  <th>Dep. Variable:</th>   <td>cumulative_retention_rate</td> <th>  No. Observations:  </th>    <td>47</td>   \n",
       "</tr>\n",
       "<tr>\n",
       "  <th>Model:</th>                <td>ARIMA(6, 1, 1)</td>       <th>  Log Likelihood     </th>  <td>68.866</td> \n",
       "</tr>\n",
       "<tr>\n",
       "  <th>Date:</th>                <td>Fri, 10 Mar 2023</td>      <th>  AIC                </th> <td>-121.733</td>\n",
       "</tr>\n",
       "<tr>\n",
       "  <th>Time:</th>                    <td>19:20:35</td>          <th>  BIC                </th> <td>-107.103</td>\n",
       "</tr>\n",
       "<tr>\n",
       "  <th>Sample:</th>                      <td>0</td>             <th>  HQIC               </th> <td>-116.252</td>\n",
       "</tr>\n",
       "<tr>\n",
       "  <th></th>                           <td> - 47</td>           <th>                     </th>     <td> </td>   \n",
       "</tr>\n",
       "<tr>\n",
       "  <th>Covariance Type:</th>            <td>opg</td>            <th>                     </th>     <td> </td>   \n",
       "</tr>\n",
       "</table>\n",
       "<table class=\"simpletable\">\n",
       "<tr>\n",
       "     <td></td>       <th>coef</th>     <th>std err</th>      <th>z</th>      <th>P>|z|</th>  <th>[0.025</th>    <th>0.975]</th>  \n",
       "</tr>\n",
       "<tr>\n",
       "  <th>ar.L1</th>  <td>   -0.0874</td> <td>    0.207</td> <td>   -0.421</td> <td> 0.674</td> <td>   -0.494</td> <td>    0.319</td>\n",
       "</tr>\n",
       "<tr>\n",
       "  <th>ar.L2</th>  <td>   -0.2245</td> <td>    0.287</td> <td>   -0.783</td> <td> 0.433</td> <td>   -0.786</td> <td>    0.337</td>\n",
       "</tr>\n",
       "<tr>\n",
       "  <th>ar.L3</th>  <td>   -0.2113</td> <td>    0.230</td> <td>   -0.921</td> <td> 0.357</td> <td>   -0.661</td> <td>    0.239</td>\n",
       "</tr>\n",
       "<tr>\n",
       "  <th>ar.L4</th>  <td>   -0.1301</td> <td>    0.222</td> <td>   -0.585</td> <td> 0.559</td> <td>   -0.566</td> <td>    0.306</td>\n",
       "</tr>\n",
       "<tr>\n",
       "  <th>ar.L5</th>  <td>   -0.1707</td> <td>    0.325</td> <td>   -0.526</td> <td> 0.599</td> <td>   -0.807</td> <td>    0.465</td>\n",
       "</tr>\n",
       "<tr>\n",
       "  <th>ar.L6</th>  <td>    0.1974</td> <td>    0.274</td> <td>    0.720</td> <td> 0.472</td> <td>   -0.340</td> <td>    0.735</td>\n",
       "</tr>\n",
       "<tr>\n",
       "  <th>ma.L1</th>  <td>   -0.9947</td> <td>    2.387</td> <td>   -0.417</td> <td> 0.677</td> <td>   -5.674</td> <td>    3.684</td>\n",
       "</tr>\n",
       "<tr>\n",
       "  <th>sigma2</th> <td>    0.0026</td> <td>    0.006</td> <td>    0.431</td> <td> 0.666</td> <td>   -0.009</td> <td>    0.014</td>\n",
       "</tr>\n",
       "</table>\n",
       "<table class=\"simpletable\">\n",
       "<tr>\n",
       "  <th>Ljung-Box (L1) (Q):</th>     <td>0.21</td> <th>  Jarque-Bera (JB):  </th> <td>6.63</td> \n",
       "</tr>\n",
       "<tr>\n",
       "  <th>Prob(Q):</th>                <td>0.65</td> <th>  Prob(JB):          </th> <td>0.04</td> \n",
       "</tr>\n",
       "<tr>\n",
       "  <th>Heteroskedasticity (H):</th> <td>0.23</td> <th>  Skew:              </th> <td>-0.66</td>\n",
       "</tr>\n",
       "<tr>\n",
       "  <th>Prob(H) (two-sided):</th>    <td>0.01</td> <th>  Kurtosis:          </th> <td>4.31</td> \n",
       "</tr>\n",
       "</table><br/><br/>Warnings:<br/>[1] Covariance matrix calculated using the outer product of gradients (complex-step)."
      ],
      "text/plain": [
       "<class 'statsmodels.iolib.summary.Summary'>\n",
       "\"\"\"\n",
       "                                   SARIMAX Results                                   \n",
       "=====================================================================================\n",
       "Dep. Variable:     cumulative_retention_rate   No. Observations:                   47\n",
       "Model:                        ARIMA(6, 1, 1)   Log Likelihood                  68.866\n",
       "Date:                       Fri, 10 Mar 2023   AIC                           -121.733\n",
       "Time:                               19:20:35   BIC                           -107.103\n",
       "Sample:                                    0   HQIC                          -116.252\n",
       "                                        - 47                                         \n",
       "Covariance Type:                         opg                                         \n",
       "==============================================================================\n",
       "                 coef    std err          z      P>|z|      [0.025      0.975]\n",
       "------------------------------------------------------------------------------\n",
       "ar.L1         -0.0874      0.207     -0.421      0.674      -0.494       0.319\n",
       "ar.L2         -0.2245      0.287     -0.783      0.433      -0.786       0.337\n",
       "ar.L3         -0.2113      0.230     -0.921      0.357      -0.661       0.239\n",
       "ar.L4         -0.1301      0.222     -0.585      0.559      -0.566       0.306\n",
       "ar.L5         -0.1707      0.325     -0.526      0.599      -0.807       0.465\n",
       "ar.L6          0.1974      0.274      0.720      0.472      -0.340       0.735\n",
       "ma.L1         -0.9947      2.387     -0.417      0.677      -5.674       3.684\n",
       "sigma2         0.0026      0.006      0.431      0.666      -0.009       0.014\n",
       "===================================================================================\n",
       "Ljung-Box (L1) (Q):                   0.21   Jarque-Bera (JB):                 6.63\n",
       "Prob(Q):                              0.65   Prob(JB):                         0.04\n",
       "Heteroskedasticity (H):               0.23   Skew:                            -0.66\n",
       "Prob(H) (two-sided):                  0.01   Kurtosis:                         4.31\n",
       "===================================================================================\n",
       "\n",
       "Warnings:\n",
       "[1] Covariance matrix calculated using the outer product of gradients (complex-step).\n",
       "\"\"\""
      ]
     },
     "execution_count": 24,
     "metadata": {},
     "output_type": "execute_result"
    }
   ],
   "source": [
    "#ARIMA model\n",
    "model1=sm.tsa.ARIMA(df1_train['cumulative_retention_rate'], order=(6,1,1))\n",
    "result1=model1.fit()\n",
    "result1.summary()"
   ]
  },
  {
   "cell_type": "code",
   "execution_count": 25,
   "id": "684d46c5",
   "metadata": {},
   "outputs": [
    {
     "name": "stderr",
     "output_type": "stream",
     "text": [
      "/Users/mingtsung/opt/miniconda3/envs/tensorflow/lib/python3.9/site-packages/statsmodels/tsa/base/tsa_model.py:834: ValueWarning: No supported index is available. Prediction results will be given with an integer index beginning at `start`.\n",
      "  return get_prediction_index(\n"
     ]
    },
    {
     "data": {
      "text/html": [
       "<div>\n",
       "<style scoped>\n",
       "    .dataframe tbody tr th:only-of-type {\n",
       "        vertical-align: middle;\n",
       "    }\n",
       "\n",
       "    .dataframe tbody tr th {\n",
       "        vertical-align: top;\n",
       "    }\n",
       "\n",
       "    .dataframe thead th {\n",
       "        text-align: right;\n",
       "    }\n",
       "</style>\n",
       "<table border=\"1\" class=\"dataframe\">\n",
       "  <thead>\n",
       "    <tr style=\"text-align: right;\">\n",
       "      <th>cumulative_retention_rate</th>\n",
       "      <th>mean</th>\n",
       "      <th>mean_se</th>\n",
       "      <th>mean_ci_lower</th>\n",
       "      <th>mean_ci_upper</th>\n",
       "    </tr>\n",
       "  </thead>\n",
       "  <tbody>\n",
       "    <tr>\n",
       "      <th>47</th>\n",
       "      <td>0.009845</td>\n",
       "      <td>0.051494</td>\n",
       "      <td>-0.091081</td>\n",
       "      <td>0.110772</td>\n",
       "    </tr>\n",
       "    <tr>\n",
       "      <th>48</th>\n",
       "      <td>-0.007063</td>\n",
       "      <td>0.051592</td>\n",
       "      <td>-0.108182</td>\n",
       "      <td>0.094056</td>\n",
       "    </tr>\n",
       "    <tr>\n",
       "      <th>49</th>\n",
       "      <td>0.014799</td>\n",
       "      <td>0.052569</td>\n",
       "      <td>-0.088234</td>\n",
       "      <td>0.117831</td>\n",
       "    </tr>\n",
       "    <tr>\n",
       "      <th>50</th>\n",
       "      <td>0.018699</td>\n",
       "      <td>0.053185</td>\n",
       "      <td>-0.085541</td>\n",
       "      <td>0.122938</td>\n",
       "    </tr>\n",
       "    <tr>\n",
       "      <th>51</th>\n",
       "      <td>0.002332</td>\n",
       "      <td>0.053214</td>\n",
       "      <td>-0.101966</td>\n",
       "      <td>0.106630</td>\n",
       "    </tr>\n",
       "    <tr>\n",
       "      <th>52</th>\n",
       "      <td>0.007008</td>\n",
       "      <td>0.053301</td>\n",
       "      <td>-0.097461</td>\n",
       "      <td>0.111477</td>\n",
       "    </tr>\n",
       "    <tr>\n",
       "      <th>53</th>\n",
       "      <td>0.008947</td>\n",
       "      <td>0.055534</td>\n",
       "      <td>-0.099897</td>\n",
       "      <td>0.117791</td>\n",
       "    </tr>\n",
       "    <tr>\n",
       "      <th>54</th>\n",
       "      <td>0.003611</td>\n",
       "      <td>0.055608</td>\n",
       "      <td>-0.105379</td>\n",
       "      <td>0.112601</td>\n",
       "    </tr>\n",
       "    <tr>\n",
       "      <th>55</th>\n",
       "      <td>0.008432</td>\n",
       "      <td>0.055652</td>\n",
       "      <td>-0.100644</td>\n",
       "      <td>0.117507</td>\n",
       "    </tr>\n",
       "    <tr>\n",
       "      <th>56</th>\n",
       "      <td>0.011754</td>\n",
       "      <td>0.055757</td>\n",
       "      <td>-0.097528</td>\n",
       "      <td>0.121035</td>\n",
       "    </tr>\n",
       "    <tr>\n",
       "      <th>57</th>\n",
       "      <td>0.007228</td>\n",
       "      <td>0.055756</td>\n",
       "      <td>-0.102051</td>\n",
       "      <td>0.116507</td>\n",
       "    </tr>\n",
       "    <tr>\n",
       "      <th>58</th>\n",
       "      <td>0.007145</td>\n",
       "      <td>0.055765</td>\n",
       "      <td>-0.102153</td>\n",
       "      <td>0.116442</td>\n",
       "    </tr>\n",
       "  </tbody>\n",
       "</table>\n",
       "</div>"
      ],
      "text/plain": [
       "cumulative_retention_rate      mean   mean_se  mean_ci_lower  mean_ci_upper\n",
       "47                         0.009845  0.051494      -0.091081       0.110772\n",
       "48                        -0.007063  0.051592      -0.108182       0.094056\n",
       "49                         0.014799  0.052569      -0.088234       0.117831\n",
       "50                         0.018699  0.053185      -0.085541       0.122938\n",
       "51                         0.002332  0.053214      -0.101966       0.106630\n",
       "52                         0.007008  0.053301      -0.097461       0.111477\n",
       "53                         0.008947  0.055534      -0.099897       0.117791\n",
       "54                         0.003611  0.055608      -0.105379       0.112601\n",
       "55                         0.008432  0.055652      -0.100644       0.117507\n",
       "56                         0.011754  0.055757      -0.097528       0.121035\n",
       "57                         0.007228  0.055756      -0.102051       0.116507\n",
       "58                         0.007145  0.055765      -0.102153       0.116442"
      ]
     },
     "execution_count": 25,
     "metadata": {},
     "output_type": "execute_result"
    }
   ],
   "source": [
    "#Prediction\n",
    "forcast_value1 = result1.get_forecast(steps=12)\n",
    "forcast_value1.summary_frame()"
   ]
  },
  {
   "cell_type": "code",
   "execution_count": 26,
   "id": "84ba3fc8",
   "metadata": {},
   "outputs": [
    {
     "name": "stderr",
     "output_type": "stream",
     "text": [
      "/var/folders/n9/t_j1751j2636q1vf1wsyppsw0000gn/T/ipykernel_58133/2506165266.py:1: SettingWithCopyWarning: \n",
      "A value is trying to be set on a copy of a slice from a DataFrame.\n",
      "Try using .loc[row_indexer,col_indexer] = value instead\n",
      "\n",
      "See the caveats in the documentation: https://pandas.pydata.org/pandas-docs/stable/user_guide/indexing.html#returning-a-view-versus-a-copy\n",
      "  df1_test['cumulative_retention_rate'] = list(forcast_value1.predicted_mean)\n",
      "/var/folders/n9/t_j1751j2636q1vf1wsyppsw0000gn/T/ipykernel_58133/2506165266.py:2: FutureWarning: The frame.append method is deprecated and will be removed from pandas in a future version. Use pandas.concat instead.\n",
      "  df1_pred = df1_train.append(df1_test)\n"
     ]
    }
   ],
   "source": [
    "df1_test['cumulative_retention_rate'] = list(forcast_value1.predicted_mean)\n",
    "df1_pred = df1_train.append(df1_test)"
   ]
  },
  {
   "cell_type": "code",
   "execution_count": 27,
   "id": "051c8460",
   "metadata": {},
   "outputs": [],
   "source": [
    "start_retention1 = df1[df1['START_DATE'] == '2015-01-01']['cumulative_retention_rate'][1]\n",
    "df1_pred['1'] = df1_pred['cumulative_retention_rate'].cumsum() + start_retention1\n",
    "df1_retention_pred = df1_pred.tail(12)[['START_DATE','1']]"
   ]
  },
  {
   "cell_type": "code",
   "execution_count": 28,
   "id": "18eaeca4",
   "metadata": {},
   "outputs": [],
   "source": [
    "df1_retention_pred.set_index('START_DATE',inplace=True)"
   ]
  },
  {
   "cell_type": "code",
   "execution_count": 29,
   "id": "fb107e5b",
   "metadata": {},
   "outputs": [
    {
     "data": {
      "text/html": [
       "<div>\n",
       "<style scoped>\n",
       "    .dataframe tbody tr th:only-of-type {\n",
       "        vertical-align: middle;\n",
       "    }\n",
       "\n",
       "    .dataframe tbody tr th {\n",
       "        vertical-align: top;\n",
       "    }\n",
       "\n",
       "    .dataframe thead th {\n",
       "        text-align: right;\n",
       "    }\n",
       "</style>\n",
       "<table border=\"1\" class=\"dataframe\">\n",
       "  <thead>\n",
       "    <tr style=\"text-align: right;\">\n",
       "      <th></th>\n",
       "      <th>1</th>\n",
       "    </tr>\n",
       "    <tr>\n",
       "      <th>START_DATE</th>\n",
       "      <th></th>\n",
       "    </tr>\n",
       "  </thead>\n",
       "  <tbody>\n",
       "    <tr>\n",
       "      <th>2019-01-01</th>\n",
       "      <td>0.827405</td>\n",
       "    </tr>\n",
       "    <tr>\n",
       "      <th>2019-02-01</th>\n",
       "      <td>0.820342</td>\n",
       "    </tr>\n",
       "    <tr>\n",
       "      <th>2019-03-01</th>\n",
       "      <td>0.835141</td>\n",
       "    </tr>\n",
       "    <tr>\n",
       "      <th>2019-04-01</th>\n",
       "      <td>0.853839</td>\n",
       "    </tr>\n",
       "    <tr>\n",
       "      <th>2019-05-01</th>\n",
       "      <td>0.856171</td>\n",
       "    </tr>\n",
       "  </tbody>\n",
       "</table>\n",
       "</div>"
      ],
      "text/plain": [
       "                   1\n",
       "START_DATE          \n",
       "2019-01-01  0.827405\n",
       "2019-02-01  0.820342\n",
       "2019-03-01  0.835141\n",
       "2019-04-01  0.853839\n",
       "2019-05-01  0.856171"
      ]
     },
     "execution_count": 29,
     "metadata": {},
     "output_type": "execute_result"
    }
   ],
   "source": [
    "df1_retention_pred.head()"
   ]
  },
  {
   "cell_type": "code",
   "execution_count": 30,
   "id": "37efd6f4",
   "metadata": {},
   "outputs": [],
   "source": [
    "#Combine the result of m=0 and m=1\n",
    "pred_df = pd.merge(df0_retention_pred, df1_retention_pred, how='inner', left_on=['START_DATE'], right_on = ['START_DATE'])"
   ]
  },
  {
   "cell_type": "code",
   "execution_count": 31,
   "id": "ad99b87c",
   "metadata": {},
   "outputs": [],
   "source": [
    "#m=2\n",
    "#Calculate Moveing Average\n",
    "df2 = df[df['mon_diff']==2][['START_DATE','cumulative_retention_rate']]\n",
    "df2_201501_201601 = df2[df2['START_DATE']<'2016-01-01']\n",
    "df2_201601_201701 = df2[(df2['START_DATE']>='2016-01-01') & (df2['START_DATE']<'2017-01-01')]\n",
    "df2_avg_2015 = df2_201501_201601['cumulative_retention_rate'].mean()\n",
    "df2_avg_2016 = df2_201601_201701['cumulative_retention_rate'].mean()\n",
    "mov_avg_2 = df2_avg_2016-df2_avg_2015"
   ]
  },
  {
   "cell_type": "code",
   "execution_count": 32,
   "id": "389d8248",
   "metadata": {},
   "outputs": [],
   "source": [
    "df2_train = df2[(df2['START_DATE'] < '2017-01-01') & (df2['START_DATE'] >= '2016-01-01')]"
   ]
  },
  {
   "cell_type": "code",
   "execution_count": 33,
   "id": "33e55aa1",
   "metadata": {},
   "outputs": [],
   "source": [
    "#Prediction\n",
    "m2=[]\n",
    "for i in df2_train.cumulative_retention_rate:\n",
    "    m2.append(3*mov_avg_2+i)"
   ]
  },
  {
   "cell_type": "code",
   "execution_count": 34,
   "id": "881f4e57",
   "metadata": {},
   "outputs": [],
   "source": [
    "pred_df['2']=m2"
   ]
  },
  {
   "cell_type": "code",
   "execution_count": 35,
   "id": "0eb9d57b",
   "metadata": {},
   "outputs": [
    {
     "data": {
      "text/html": [
       "<div>\n",
       "<style scoped>\n",
       "    .dataframe tbody tr th:only-of-type {\n",
       "        vertical-align: middle;\n",
       "    }\n",
       "\n",
       "    .dataframe tbody tr th {\n",
       "        vertical-align: top;\n",
       "    }\n",
       "\n",
       "    .dataframe thead th {\n",
       "        text-align: right;\n",
       "    }\n",
       "</style>\n",
       "<table border=\"1\" class=\"dataframe\">\n",
       "  <thead>\n",
       "    <tr style=\"text-align: right;\">\n",
       "      <th></th>\n",
       "      <th>0</th>\n",
       "      <th>1</th>\n",
       "      <th>2</th>\n",
       "    </tr>\n",
       "    <tr>\n",
       "      <th>START_DATE</th>\n",
       "      <th></th>\n",
       "      <th></th>\n",
       "      <th></th>\n",
       "    </tr>\n",
       "  </thead>\n",
       "  <tbody>\n",
       "    <tr>\n",
       "      <th>2019-01-01</th>\n",
       "      <td>0.943097</td>\n",
       "      <td>0.827405</td>\n",
       "      <td>0.534956</td>\n",
       "    </tr>\n",
       "    <tr>\n",
       "      <th>2019-02-01</th>\n",
       "      <td>0.951041</td>\n",
       "      <td>0.820342</td>\n",
       "      <td>0.657361</td>\n",
       "    </tr>\n",
       "    <tr>\n",
       "      <th>2019-03-01</th>\n",
       "      <td>0.958899</td>\n",
       "      <td>0.835141</td>\n",
       "      <td>0.684627</td>\n",
       "    </tr>\n",
       "    <tr>\n",
       "      <th>2019-04-01</th>\n",
       "      <td>0.966770</td>\n",
       "      <td>0.853839</td>\n",
       "      <td>0.684266</td>\n",
       "    </tr>\n",
       "    <tr>\n",
       "      <th>2019-05-01</th>\n",
       "      <td>0.974641</td>\n",
       "      <td>0.856171</td>\n",
       "      <td>0.646666</td>\n",
       "    </tr>\n",
       "    <tr>\n",
       "      <th>2019-06-01</th>\n",
       "      <td>0.982512</td>\n",
       "      <td>0.863179</td>\n",
       "      <td>0.619357</td>\n",
       "    </tr>\n",
       "    <tr>\n",
       "      <th>2019-07-01</th>\n",
       "      <td>0.990382</td>\n",
       "      <td>0.872126</td>\n",
       "      <td>0.619960</td>\n",
       "    </tr>\n",
       "    <tr>\n",
       "      <th>2019-08-01</th>\n",
       "      <td>0.998253</td>\n",
       "      <td>0.875737</td>\n",
       "      <td>0.611750</td>\n",
       "    </tr>\n",
       "    <tr>\n",
       "      <th>2019-09-01</th>\n",
       "      <td>1.000000</td>\n",
       "      <td>0.884168</td>\n",
       "      <td>0.665598</td>\n",
       "    </tr>\n",
       "    <tr>\n",
       "      <th>2019-10-01</th>\n",
       "      <td>1.000000</td>\n",
       "      <td>0.895922</td>\n",
       "      <td>0.588865</td>\n",
       "    </tr>\n",
       "    <tr>\n",
       "      <th>2019-11-01</th>\n",
       "      <td>1.000000</td>\n",
       "      <td>0.903149</td>\n",
       "      <td>0.485758</td>\n",
       "    </tr>\n",
       "    <tr>\n",
       "      <th>2019-12-01</th>\n",
       "      <td>1.000000</td>\n",
       "      <td>0.910294</td>\n",
       "      <td>0.527143</td>\n",
       "    </tr>\n",
       "  </tbody>\n",
       "</table>\n",
       "</div>"
      ],
      "text/plain": [
       "                   0         1         2\n",
       "START_DATE                              \n",
       "2019-01-01  0.943097  0.827405  0.534956\n",
       "2019-02-01  0.951041  0.820342  0.657361\n",
       "2019-03-01  0.958899  0.835141  0.684627\n",
       "2019-04-01  0.966770  0.853839  0.684266\n",
       "2019-05-01  0.974641  0.856171  0.646666\n",
       "2019-06-01  0.982512  0.863179  0.619357\n",
       "2019-07-01  0.990382  0.872126  0.619960\n",
       "2019-08-01  0.998253  0.875737  0.611750\n",
       "2019-09-01  1.000000  0.884168  0.665598\n",
       "2019-10-01  1.000000  0.895922  0.588865\n",
       "2019-11-01  1.000000  0.903149  0.485758\n",
       "2019-12-01  1.000000  0.910294  0.527143"
      ]
     },
     "execution_count": 35,
     "metadata": {},
     "output_type": "execute_result"
    }
   ],
   "source": [
    "pred_df"
   ]
  },
  {
   "cell_type": "code",
   "execution_count": 36,
   "id": "f3180aed",
   "metadata": {},
   "outputs": [],
   "source": [
    "#m=3\n",
    "#Calculate Moveing Average\n",
    "df3 = df[df['mon_diff']==3][['START_DATE','cumulative_retention_rate']]\n",
    "df3_201501_201601 = df3[df3['START_DATE']<'2016-01-01']\n",
    "df3_201601_201701 = df3[(df3['START_DATE']>='2016-01-01') & (df3['START_DATE']<'2017-01-01')]\n",
    "df3_avg_2015 = df3_201501_201601['cumulative_retention_rate'].mean()\n",
    "df3_avg_2016 = df3_201601_201701['cumulative_retention_rate'].mean()\n",
    "mov_avg_3 = df3_avg_2016-df3_avg_2015"
   ]
  },
  {
   "cell_type": "code",
   "execution_count": 37,
   "id": "9a174cf1",
   "metadata": {},
   "outputs": [],
   "source": [
    "#Prediciton\n",
    "df3_train = df3[(df3['START_DATE'] < '2017-01-01') & (df3['START_DATE'] >= '2016-01-01')]\n",
    "m3=[]\n",
    "for i in df3_train.cumulative_retention_rate:\n",
    "    m3.append(3*mov_avg_3+i)\n",
    "\n",
    "pred_df['3']=m3"
   ]
  },
  {
   "cell_type": "code",
   "execution_count": 38,
   "id": "f353cb00",
   "metadata": {},
   "outputs": [],
   "source": [
    "#m=4\n",
    "#Calculate Moveing Average\n",
    "df4 = df[df['mon_diff']==4][['START_DATE','cumulative_retention_rate']]\n",
    "df4_201501_201601 = df4[df4['START_DATE']<'2016-01-01']\n",
    "df4_201601_201701 = df4[(df4['START_DATE']>='2016-01-01') & (df4['START_DATE']<'2017-01-01')]\n",
    "df4_avg_2015 = df4_201501_201601['cumulative_retention_rate'].mean()\n",
    "df4_avg_2016 = df4_201601_201701['cumulative_retention_rate'].mean()\n",
    "mov_avg_4 = df4_avg_2016-df4_avg_2015"
   ]
  },
  {
   "cell_type": "code",
   "execution_count": 39,
   "id": "fe2aec65",
   "metadata": {},
   "outputs": [],
   "source": [
    "#Prediciton\n",
    "df4_train = df4[(df4['START_DATE'] < '2017-01-01') & (df4['START_DATE'] >= '2016-01-01')]\n",
    "m4=[]\n",
    "for i in df4_train.cumulative_retention_rate:\n",
    "    m4.append(3*mov_avg_4+i)\n",
    "\n",
    "pred_df['4']=m4"
   ]
  },
  {
   "cell_type": "code",
   "execution_count": 40,
   "id": "4df78abf",
   "metadata": {},
   "outputs": [],
   "source": [
    "#m=5\n",
    "m5=[]\n",
    "df5 = df[df['mon_diff']==5][['START_DATE','cumulative_retention_rate']]\n",
    "df5['month'] = pd.to_datetime(df5['START_DATE']).dt.month"
   ]
  },
  {
   "cell_type": "code",
   "execution_count": 41,
   "id": "f84efd25",
   "metadata": {},
   "outputs": [],
   "source": [
    "#Average\n",
    "for i in range(1,13):\n",
    "    df5_temp = df5[(df5['month'] == i) & (df5['START_DATE'] < '2017-04-01')]\n",
    "    m5.append(df5_temp.cumulative_retention_rate.mean())\n",
    "    \n",
    "pred_df['5']=m5"
   ]
  },
  {
   "cell_type": "code",
   "execution_count": 42,
   "id": "8c2fe340",
   "metadata": {},
   "outputs": [],
   "source": [
    "#m=6\n",
    "m6=[]\n",
    "df6 = df[df['mon_diff']==6][['START_DATE','cumulative_retention_rate']]\n",
    "df6['month'] = pd.to_datetime(df6['START_DATE']).dt.month"
   ]
  },
  {
   "cell_type": "code",
   "execution_count": 43,
   "id": "bcb8998d",
   "metadata": {},
   "outputs": [],
   "source": [
    "#Average\n",
    "for i in range(1,13):\n",
    "    df6_temp = df6[(df6['month'] == i) & (df6['START_DATE'] < '2017-04-01')]\n",
    "    m6.append(df6_temp.cumulative_retention_rate.mean())\n",
    "    \n",
    "pred_df['6']=m6"
   ]
  },
  {
   "cell_type": "code",
   "execution_count": 44,
   "id": "4687450d",
   "metadata": {},
   "outputs": [],
   "source": [
    "#m=7\n",
    "m7=[]\n",
    "df7 = df[df['mon_diff']==7][['START_DATE','cumulative_retention_rate']]\n",
    "df7['month'] = pd.to_datetime(df7['START_DATE']).dt.month"
   ]
  },
  {
   "cell_type": "code",
   "execution_count": 45,
   "id": "12eb82fb",
   "metadata": {},
   "outputs": [],
   "source": [
    "#Average\n",
    "for i in range(1,13):\n",
    "    df7_temp = df7[(df7['month'] == i) & (df7['START_DATE'] < '2017-04-01')]\n",
    "    m7.append(df7_temp.cumulative_retention_rate.mean())\n",
    "    \n",
    "pred_df['7']=m7"
   ]
  },
  {
   "cell_type": "code",
   "execution_count": 46,
   "id": "a1c9573d",
   "metadata": {},
   "outputs": [],
   "source": [
    "#m=8\n",
    "m8=[]\n",
    "df8 = df[df['mon_diff']==8][['START_DATE','cumulative_retention_rate']]\n",
    "df8['month'] = pd.to_datetime(df8['START_DATE']).dt.month"
   ]
  },
  {
   "cell_type": "code",
   "execution_count": 47,
   "id": "8a8f52dd",
   "metadata": {},
   "outputs": [],
   "source": [
    "#Average\n",
    "for i in range(1,13):\n",
    "    df8_temp = df8[(df8['month'] == i) & (df8['START_DATE'] < '2017-04-01')]\n",
    "    m8.append(df8_temp.cumulative_retention_rate.mean())\n",
    "    \n",
    "pred_df['8']=m8"
   ]
  },
  {
   "cell_type": "code",
   "execution_count": 48,
   "id": "ce961a38",
   "metadata": {},
   "outputs": [],
   "source": [
    "#m=9\n",
    "m9=[]\n",
    "df9 = df[df['mon_diff']==9][['START_DATE','cumulative_retention_rate']]\n",
    "df9['month'] = pd.to_datetime(df9['START_DATE']).dt.month"
   ]
  },
  {
   "cell_type": "code",
   "execution_count": 49,
   "id": "8b342736",
   "metadata": {},
   "outputs": [],
   "source": [
    "#Average\n",
    "for i in range(1,13):\n",
    "    df9_temp = df9[(df9['month'] == i) & (df9['START_DATE'] < '2017-04-01')]\n",
    "    m9.append(df9_temp.cumulative_retention_rate.mean())\n",
    "    \n",
    "pred_df['9']=m9"
   ]
  },
  {
   "cell_type": "code",
   "execution_count": 50,
   "id": "1a5658c2",
   "metadata": {},
   "outputs": [],
   "source": [
    "#m=10\n",
    "m10=[]\n",
    "df10 = df[df['mon_diff']==10][['START_DATE','cumulative_retention_rate']]\n",
    "df10['month'] = pd.to_datetime(df10['START_DATE']).dt.month"
   ]
  },
  {
   "cell_type": "code",
   "execution_count": 51,
   "id": "144822a2",
   "metadata": {},
   "outputs": [],
   "source": [
    "#Average\n",
    "for i in range(1,13):\n",
    "    df10_temp = df10[(df10['month'] == i) & (df10['START_DATE'] < '2017-04-01')]\n",
    "    m10.append(df10_temp.cumulative_retention_rate.mean())\n",
    "    \n",
    "pred_df['10']=m10"
   ]
  },
  {
   "cell_type": "code",
   "execution_count": 52,
   "id": "1be32760",
   "metadata": {},
   "outputs": [],
   "source": [
    "#m=11\n",
    "m11=[]\n",
    "df11 = df[df['mon_diff']==11][['START_DATE','cumulative_retention_rate']]\n",
    "df11['month'] = pd.to_datetime(df11['START_DATE']).dt.month"
   ]
  },
  {
   "cell_type": "code",
   "execution_count": 53,
   "id": "8fdcf174",
   "metadata": {},
   "outputs": [],
   "source": [
    "#Average\n",
    "for i in range(1,13):\n",
    "    df11_temp = df11[(df11['month'] == i) & (df11['START_DATE'] < '2017-04-01')]\n",
    "    m11.append(df11_temp.cumulative_retention_rate.mean())\n",
    "    \n",
    "pred_df['11']=m11"
   ]
  },
  {
   "cell_type": "code",
   "execution_count": 54,
   "id": "7b9abee4",
   "metadata": {},
   "outputs": [],
   "source": [
    "#m=11\n",
    "m12=[]\n",
    "df12 = df[df['mon_diff']==12][['START_DATE','cumulative_retention_rate']]\n",
    "df12['month'] = pd.to_datetime(df12['START_DATE']).dt.month"
   ]
  },
  {
   "cell_type": "code",
   "execution_count": 55,
   "id": "327a25f1",
   "metadata": {},
   "outputs": [],
   "source": [
    "#Average\n",
    "for i in range(1,13):\n",
    "    df12_temp = df12[(df12['month'] == i) & (df12['START_DATE'] < '2017-04-01')]\n",
    "    m12.append(df12_temp.cumulative_retention_rate.mean())\n",
    "    \n",
    "pred_df['12']=m12"
   ]
  },
  {
   "cell_type": "code",
   "execution_count": 56,
   "id": "5bc2cbb8",
   "metadata": {},
   "outputs": [
    {
     "data": {
      "text/html": [
       "<div>\n",
       "<style scoped>\n",
       "    .dataframe tbody tr th:only-of-type {\n",
       "        vertical-align: middle;\n",
       "    }\n",
       "\n",
       "    .dataframe tbody tr th {\n",
       "        vertical-align: top;\n",
       "    }\n",
       "\n",
       "    .dataframe thead th {\n",
       "        text-align: right;\n",
       "    }\n",
       "</style>\n",
       "<table border=\"1\" class=\"dataframe\">\n",
       "  <thead>\n",
       "    <tr style=\"text-align: right;\">\n",
       "      <th></th>\n",
       "      <th>0</th>\n",
       "      <th>1</th>\n",
       "      <th>2</th>\n",
       "      <th>3</th>\n",
       "      <th>4</th>\n",
       "      <th>5</th>\n",
       "      <th>6</th>\n",
       "      <th>7</th>\n",
       "      <th>8</th>\n",
       "      <th>9</th>\n",
       "      <th>10</th>\n",
       "      <th>11</th>\n",
       "      <th>12</th>\n",
       "    </tr>\n",
       "    <tr>\n",
       "      <th>START_DATE</th>\n",
       "      <th></th>\n",
       "      <th></th>\n",
       "      <th></th>\n",
       "      <th></th>\n",
       "      <th></th>\n",
       "      <th></th>\n",
       "      <th></th>\n",
       "      <th></th>\n",
       "      <th></th>\n",
       "      <th></th>\n",
       "      <th></th>\n",
       "      <th></th>\n",
       "      <th></th>\n",
       "    </tr>\n",
       "  </thead>\n",
       "  <tbody>\n",
       "    <tr>\n",
       "      <th>2019-01-01</th>\n",
       "      <td>0.943097</td>\n",
       "      <td>0.827405</td>\n",
       "      <td>0.534956</td>\n",
       "      <td>0.478039</td>\n",
       "      <td>0.433965</td>\n",
       "      <td>0.115010</td>\n",
       "      <td>0.068034</td>\n",
       "      <td>0.061039</td>\n",
       "      <td>0.056940</td>\n",
       "      <td>0.053849</td>\n",
       "      <td>0.035005</td>\n",
       "      <td>0.006419</td>\n",
       "      <td>0.002534</td>\n",
       "    </tr>\n",
       "    <tr>\n",
       "      <th>2019-02-01</th>\n",
       "      <td>0.951041</td>\n",
       "      <td>0.820342</td>\n",
       "      <td>0.657361</td>\n",
       "      <td>0.596335</td>\n",
       "      <td>0.531432</td>\n",
       "      <td>0.132711</td>\n",
       "      <td>0.072298</td>\n",
       "      <td>0.064230</td>\n",
       "      <td>0.059803</td>\n",
       "      <td>0.055990</td>\n",
       "      <td>0.036745</td>\n",
       "      <td>0.011082</td>\n",
       "      <td>0.005658</td>\n",
       "    </tr>\n",
       "    <tr>\n",
       "      <th>2019-03-01</th>\n",
       "      <td>0.958899</td>\n",
       "      <td>0.835141</td>\n",
       "      <td>0.684627</td>\n",
       "      <td>0.612982</td>\n",
       "      <td>0.553158</td>\n",
       "      <td>0.154312</td>\n",
       "      <td>0.081127</td>\n",
       "      <td>0.075064</td>\n",
       "      <td>0.069873</td>\n",
       "      <td>0.056243</td>\n",
       "      <td>0.039372</td>\n",
       "      <td>0.013562</td>\n",
       "      <td>0.004851</td>\n",
       "    </tr>\n",
       "    <tr>\n",
       "      <th>2019-04-01</th>\n",
       "      <td>0.966770</td>\n",
       "      <td>0.853839</td>\n",
       "      <td>0.684266</td>\n",
       "      <td>0.616788</td>\n",
       "      <td>0.556197</td>\n",
       "      <td>0.142511</td>\n",
       "      <td>0.082242</td>\n",
       "      <td>0.073262</td>\n",
       "      <td>0.063284</td>\n",
       "      <td>0.054096</td>\n",
       "      <td>0.040569</td>\n",
       "      <td>0.008273</td>\n",
       "      <td>0.001414</td>\n",
       "    </tr>\n",
       "    <tr>\n",
       "      <th>2019-05-01</th>\n",
       "      <td>0.974641</td>\n",
       "      <td>0.856171</td>\n",
       "      <td>0.646666</td>\n",
       "      <td>0.583800</td>\n",
       "      <td>0.525910</td>\n",
       "      <td>0.125272</td>\n",
       "      <td>0.064839</td>\n",
       "      <td>0.053637</td>\n",
       "      <td>0.044932</td>\n",
       "      <td>0.040243</td>\n",
       "      <td>0.032130</td>\n",
       "      <td>0.006705</td>\n",
       "      <td>0.001080</td>\n",
       "    </tr>\n",
       "    <tr>\n",
       "      <th>2019-06-01</th>\n",
       "      <td>0.982512</td>\n",
       "      <td>0.863179</td>\n",
       "      <td>0.619357</td>\n",
       "      <td>0.561537</td>\n",
       "      <td>0.506420</td>\n",
       "      <td>0.123533</td>\n",
       "      <td>0.047467</td>\n",
       "      <td>0.037344</td>\n",
       "      <td>0.032462</td>\n",
       "      <td>0.028863</td>\n",
       "      <td>0.023170</td>\n",
       "      <td>0.004961</td>\n",
       "      <td>0.001613</td>\n",
       "    </tr>\n",
       "    <tr>\n",
       "      <th>2019-07-01</th>\n",
       "      <td>0.990382</td>\n",
       "      <td>0.872126</td>\n",
       "      <td>0.619960</td>\n",
       "      <td>0.567793</td>\n",
       "      <td>0.504840</td>\n",
       "      <td>0.094460</td>\n",
       "      <td>0.044928</td>\n",
       "      <td>0.039028</td>\n",
       "      <td>0.031812</td>\n",
       "      <td>0.028178</td>\n",
       "      <td>0.021800</td>\n",
       "      <td>0.005753</td>\n",
       "      <td>0.002131</td>\n",
       "    </tr>\n",
       "    <tr>\n",
       "      <th>2019-08-01</th>\n",
       "      <td>0.998253</td>\n",
       "      <td>0.875737</td>\n",
       "      <td>0.611750</td>\n",
       "      <td>0.541678</td>\n",
       "      <td>0.451165</td>\n",
       "      <td>0.088883</td>\n",
       "      <td>0.046457</td>\n",
       "      <td>0.040889</td>\n",
       "      <td>0.037798</td>\n",
       "      <td>0.034546</td>\n",
       "      <td>0.027227</td>\n",
       "      <td>0.008162</td>\n",
       "      <td>0.001990</td>\n",
       "    </tr>\n",
       "    <tr>\n",
       "      <th>2019-09-01</th>\n",
       "      <td>1.000000</td>\n",
       "      <td>0.884168</td>\n",
       "      <td>0.665598</td>\n",
       "      <td>0.554633</td>\n",
       "      <td>0.469045</td>\n",
       "      <td>0.133544</td>\n",
       "      <td>0.072485</td>\n",
       "      <td>0.065227</td>\n",
       "      <td>0.061578</td>\n",
       "      <td>0.059129</td>\n",
       "      <td>0.048179</td>\n",
       "      <td>0.005566</td>\n",
       "      <td>0.001575</td>\n",
       "    </tr>\n",
       "    <tr>\n",
       "      <th>2019-10-01</th>\n",
       "      <td>1.000000</td>\n",
       "      <td>0.895922</td>\n",
       "      <td>0.588865</td>\n",
       "      <td>0.490662</td>\n",
       "      <td>0.429478</td>\n",
       "      <td>0.096910</td>\n",
       "      <td>0.053225</td>\n",
       "      <td>0.046460</td>\n",
       "      <td>0.042817</td>\n",
       "      <td>0.039188</td>\n",
       "      <td>0.030749</td>\n",
       "      <td>0.005340</td>\n",
       "      <td>0.002240</td>\n",
       "    </tr>\n",
       "    <tr>\n",
       "      <th>2019-11-01</th>\n",
       "      <td>1.000000</td>\n",
       "      <td>0.903149</td>\n",
       "      <td>0.485758</td>\n",
       "      <td>0.414074</td>\n",
       "      <td>0.363581</td>\n",
       "      <td>0.077548</td>\n",
       "      <td>0.041887</td>\n",
       "      <td>0.037439</td>\n",
       "      <td>0.034226</td>\n",
       "      <td>0.030748</td>\n",
       "      <td>0.020731</td>\n",
       "      <td>0.003149</td>\n",
       "      <td>0.001482</td>\n",
       "    </tr>\n",
       "    <tr>\n",
       "      <th>2019-12-01</th>\n",
       "      <td>1.000000</td>\n",
       "      <td>0.910294</td>\n",
       "      <td>0.527143</td>\n",
       "      <td>0.473002</td>\n",
       "      <td>0.424096</td>\n",
       "      <td>0.117111</td>\n",
       "      <td>0.058802</td>\n",
       "      <td>0.051729</td>\n",
       "      <td>0.046367</td>\n",
       "      <td>0.043961</td>\n",
       "      <td>0.033181</td>\n",
       "      <td>0.006463</td>\n",
       "      <td>0.002028</td>\n",
       "    </tr>\n",
       "  </tbody>\n",
       "</table>\n",
       "</div>"
      ],
      "text/plain": [
       "                   0         1         2         3         4         5  \\\n",
       "START_DATE                                                               \n",
       "2019-01-01  0.943097  0.827405  0.534956  0.478039  0.433965  0.115010   \n",
       "2019-02-01  0.951041  0.820342  0.657361  0.596335  0.531432  0.132711   \n",
       "2019-03-01  0.958899  0.835141  0.684627  0.612982  0.553158  0.154312   \n",
       "2019-04-01  0.966770  0.853839  0.684266  0.616788  0.556197  0.142511   \n",
       "2019-05-01  0.974641  0.856171  0.646666  0.583800  0.525910  0.125272   \n",
       "2019-06-01  0.982512  0.863179  0.619357  0.561537  0.506420  0.123533   \n",
       "2019-07-01  0.990382  0.872126  0.619960  0.567793  0.504840  0.094460   \n",
       "2019-08-01  0.998253  0.875737  0.611750  0.541678  0.451165  0.088883   \n",
       "2019-09-01  1.000000  0.884168  0.665598  0.554633  0.469045  0.133544   \n",
       "2019-10-01  1.000000  0.895922  0.588865  0.490662  0.429478  0.096910   \n",
       "2019-11-01  1.000000  0.903149  0.485758  0.414074  0.363581  0.077548   \n",
       "2019-12-01  1.000000  0.910294  0.527143  0.473002  0.424096  0.117111   \n",
       "\n",
       "                   6         7         8         9        10        11  \\\n",
       "START_DATE                                                               \n",
       "2019-01-01  0.068034  0.061039  0.056940  0.053849  0.035005  0.006419   \n",
       "2019-02-01  0.072298  0.064230  0.059803  0.055990  0.036745  0.011082   \n",
       "2019-03-01  0.081127  0.075064  0.069873  0.056243  0.039372  0.013562   \n",
       "2019-04-01  0.082242  0.073262  0.063284  0.054096  0.040569  0.008273   \n",
       "2019-05-01  0.064839  0.053637  0.044932  0.040243  0.032130  0.006705   \n",
       "2019-06-01  0.047467  0.037344  0.032462  0.028863  0.023170  0.004961   \n",
       "2019-07-01  0.044928  0.039028  0.031812  0.028178  0.021800  0.005753   \n",
       "2019-08-01  0.046457  0.040889  0.037798  0.034546  0.027227  0.008162   \n",
       "2019-09-01  0.072485  0.065227  0.061578  0.059129  0.048179  0.005566   \n",
       "2019-10-01  0.053225  0.046460  0.042817  0.039188  0.030749  0.005340   \n",
       "2019-11-01  0.041887  0.037439  0.034226  0.030748  0.020731  0.003149   \n",
       "2019-12-01  0.058802  0.051729  0.046367  0.043961  0.033181  0.006463   \n",
       "\n",
       "                  12  \n",
       "START_DATE            \n",
       "2019-01-01  0.002534  \n",
       "2019-02-01  0.005658  \n",
       "2019-03-01  0.004851  \n",
       "2019-04-01  0.001414  \n",
       "2019-05-01  0.001080  \n",
       "2019-06-01  0.001613  \n",
       "2019-07-01  0.002131  \n",
       "2019-08-01  0.001990  \n",
       "2019-09-01  0.001575  \n",
       "2019-10-01  0.002240  \n",
       "2019-11-01  0.001482  \n",
       "2019-12-01  0.002028  "
      ]
     },
     "execution_count": 56,
     "metadata": {},
     "output_type": "execute_result"
    }
   ],
   "source": [
    "pred_df"
   ]
  },
  {
   "cell_type": "code",
   "execution_count": 57,
   "id": "e5a0885f",
   "metadata": {},
   "outputs": [
    {
     "data": {
      "text/plain": [
       "Text(0, 0.5, 'Cumulative Retention Rate')"
      ]
     },
     "execution_count": 57,
     "metadata": {},
     "output_type": "execute_result"
    },
    {
     "data": {
      "image/png": "[encoded data removed]",
      "text/plain": [
       "<Figure size 1500x800 with 1 Axes>"
      ]
     },
     "metadata": {},
     "output_type": "display_data"
    }
   ],
   "source": [
    "#Plot prediction\n",
    "fig, ax = plt.subplots(figsize = (15,8))\n",
    "for m in pred_df.index:\n",
    "    sns.lineplot(data=pred_df.loc[m], ax=ax, label=m)\n",
    "ax.set_title('Predictions of Cumulative Retention Curves for 2019 cohorts ', fontsize=15)\n",
    "ax.set_xlabel('Month Since Start Date', fontsize=12)\n",
    "ax.set_ylabel('Cumulative Retention Rate', fontsize=12)"
   ]
  },
  {
   "cell_type": "code",
   "execution_count": 58,
   "id": "9b77b209",
   "metadata": {},
   "outputs": [
    {
     "data": {
      "text/plain": [
       "Text(0.5, 0.98, 'Actual and Predict Cumulative Retention Curves of First 3 Cohorts in 2019.')"
      ]
     },
     "execution_count": 58,
     "metadata": {},
     "output_type": "execute_result"
    },
    {
     "data": {
      "image/png": "[encoded data removed]",
      "text/plain": [
       "<Figure size 1200x500 with 3 Axes>"
      ]
     },
     "metadata": {},
     "output_type": "display_data"
    }
   ],
   "source": [
    "#Compare with actual Cumulative Retention Curves\n",
    "fig, axes = plt.subplots(1, 3, figsize = (12,5))\n",
    "sns.lineplot(data=pred_df.loc['2019-01-01'], ax=axes[0], label='2019-01 Prediction', color='blue', linestyle='--')\n",
    "sns.lineplot(data=pred_df.loc['2019-02-01'], ax=axes[1], label='2019-02 Prediction', color='orange', linestyle='--')\n",
    "sns.lineplot(data=pred_df.loc['2019-03-01'], ax=axes[2], label='2019-02 Prediction', color='green', linestyle='--')\n",
    "sns.lineplot(data=df[df['START_DATE'] == '2019-01-01'], x='mon_diff', y='cumulative_retention_rate', ax=axes[0], label='2019-01', color='blue')\n",
    "sns.lineplot(data=df[df['START_DATE'] == '2019-02-01'], x='mon_diff', y='cumulative_retention_rate', ax=axes[1], label='2019-02', color='orange')\n",
    "sns.lineplot(data=df[df['START_DATE'] == '2019-03-01'], x='mon_diff', y='cumulative_retention_rate', ax=axes[2], label='2019-03', color='green')\n",
    "for c in range(3):\n",
    "    axes[c].set_xlim([0, 12])\n",
    "    axes[c].set_ylim([0, 1])\n",
    "    axes[c].set_xlabel('Month Since Start Date', fontsize=12)\n",
    "    axes[c].set_ylabel('Cumulative Retention Rate', fontsize=12)\n",
    "plt.suptitle('Actual and Predict Cumulative Retention Curves of First 3 Cohorts in 2019.', fontsize=15)"
   ]
  },
  {
   "cell_type": "code",
   "execution_count": null,
   "id": "88dce0c7",
   "metadata": {},
   "outputs": [],
   "source": []
  },
  {
   "cell_type": "code",
   "execution_count": 59,
   "id": "e3437c4b",
   "metadata": {},
   "outputs": [],
   "source": [
    "#Evaluate\n",
    "r_score_list=[]\n",
    "for j in pred_df.index:\n",
    "    pred = pred_df.loc[j]\n",
    "    true = df[df['START_DATE'] == j]['cumulative_retention_rate']\n",
    "    length = 0\n",
    "    if len(pred) <= len(true):\n",
    "        length = len(pred)\n",
    "    else:\n",
    "        length = len(true)\n",
    "    r_score_list.append(r2_score(pred[:length],true[:length]))"
   ]
  },
  {
   "cell_type": "code",
   "execution_count": 60,
   "id": "20632ba3",
   "metadata": {},
   "outputs": [
    {
     "data": {
      "text/plain": [
       "[0.6574792238804694,\n",
       " 0.9193517997809562,\n",
       " 0.9378939126641082,\n",
       " 0.9207367473284509,\n",
       " 0.9672792406017515,\n",
       " 0.9435577685397333,\n",
       " 0.9567921132206357,\n",
       " 0.9492586640892486,\n",
       " 0.8641122247629316,\n",
       " 0.19923989617628723,\n",
       " 0.22285444849745695,\n",
       " -1.3938248042815071]"
      ]
     },
     "execution_count": 60,
     "metadata": {},
     "output_type": "execute_result"
    }
   ],
   "source": [
    "r_score_list"
   ]
  },
  {
   "cell_type": "code",
   "execution_count": 61,
   "id": "654343b7",
   "metadata": {},
   "outputs": [],
   "source": [
    "r2_df = pd.DataFrame(r_score_list, columns = ['R Square Score'])\n",
    "r2_df.reset_index(inplace=True)"
   ]
  },
  {
   "cell_type": "code",
   "execution_count": 62,
   "id": "380531fe",
   "metadata": {},
   "outputs": [
    {
     "data": {
      "text/html": [
       "<div>\n",
       "<style scoped>\n",
       "    .dataframe tbody tr th:only-of-type {\n",
       "        vertical-align: middle;\n",
       "    }\n",
       "\n",
       "    .dataframe tbody tr th {\n",
       "        vertical-align: top;\n",
       "    }\n",
       "\n",
       "    .dataframe thead th {\n",
       "        text-align: right;\n",
       "    }\n",
       "</style>\n",
       "<table border=\"1\" class=\"dataframe\">\n",
       "  <thead>\n",
       "    <tr style=\"text-align: right;\">\n",
       "      <th></th>\n",
       "      <th>index</th>\n",
       "      <th>R Square Score</th>\n",
       "      <th>Month</th>\n",
       "    </tr>\n",
       "  </thead>\n",
       "  <tbody>\n",
       "    <tr>\n",
       "      <th>0</th>\n",
       "      <td>0</td>\n",
       "      <td>0.657479</td>\n",
       "      <td>2019-01</td>\n",
       "    </tr>\n",
       "    <tr>\n",
       "      <th>1</th>\n",
       "      <td>1</td>\n",
       "      <td>0.919352</td>\n",
       "      <td>2019-02</td>\n",
       "    </tr>\n",
       "    <tr>\n",
       "      <th>2</th>\n",
       "      <td>2</td>\n",
       "      <td>0.937894</td>\n",
       "      <td>2019-03</td>\n",
       "    </tr>\n",
       "    <tr>\n",
       "      <th>3</th>\n",
       "      <td>3</td>\n",
       "      <td>0.920737</td>\n",
       "      <td>2019-04</td>\n",
       "    </tr>\n",
       "    <tr>\n",
       "      <th>4</th>\n",
       "      <td>4</td>\n",
       "      <td>0.967279</td>\n",
       "      <td>2019-05</td>\n",
       "    </tr>\n",
       "    <tr>\n",
       "      <th>5</th>\n",
       "      <td>5</td>\n",
       "      <td>0.943558</td>\n",
       "      <td>2019-06</td>\n",
       "    </tr>\n",
       "    <tr>\n",
       "      <th>6</th>\n",
       "      <td>6</td>\n",
       "      <td>0.956792</td>\n",
       "      <td>2019-07</td>\n",
       "    </tr>\n",
       "    <tr>\n",
       "      <th>7</th>\n",
       "      <td>7</td>\n",
       "      <td>0.949259</td>\n",
       "      <td>2019-08</td>\n",
       "    </tr>\n",
       "    <tr>\n",
       "      <th>8</th>\n",
       "      <td>8</td>\n",
       "      <td>0.864112</td>\n",
       "      <td>2019-09</td>\n",
       "    </tr>\n",
       "    <tr>\n",
       "      <th>9</th>\n",
       "      <td>9</td>\n",
       "      <td>0.199240</td>\n",
       "      <td>2019-10</td>\n",
       "    </tr>\n",
       "    <tr>\n",
       "      <th>10</th>\n",
       "      <td>10</td>\n",
       "      <td>0.222854</td>\n",
       "      <td>2019-11</td>\n",
       "    </tr>\n",
       "    <tr>\n",
       "      <th>11</th>\n",
       "      <td>11</td>\n",
       "      <td>-1.393825</td>\n",
       "      <td>2019-12</td>\n",
       "    </tr>\n",
       "  </tbody>\n",
       "</table>\n",
       "</div>"
      ],
      "text/plain": [
       "    index  R Square Score    Month\n",
       "0       0        0.657479  2019-01\n",
       "1       1        0.919352  2019-02\n",
       "2       2        0.937894  2019-03\n",
       "3       3        0.920737  2019-04\n",
       "4       4        0.967279  2019-05\n",
       "5       5        0.943558  2019-06\n",
       "6       6        0.956792  2019-07\n",
       "7       7        0.949259  2019-08\n",
       "8       8        0.864112  2019-09\n",
       "9       9        0.199240  2019-10\n",
       "10     10        0.222854  2019-11\n",
       "11     11       -1.393825  2019-12"
      ]
     },
     "execution_count": 62,
     "metadata": {},
     "output_type": "execute_result"
    }
   ],
   "source": [
    "mon_list=[]\n",
    "for k in pred_df.index:\n",
    "    mon_list.append(str(k)[:7])\n",
    "r2_df['Month']=mon_list\n",
    "r2_df"
   ]
  },
  {
   "cell_type": "code",
   "execution_count": 63,
   "id": "8a4bac09",
   "metadata": {},
   "outputs": [
    {
     "data": {
      "text/plain": [
       "Text(0.5, 1.0, 'Prediction Accuracy of Cumulative Retention Curve for 2019 Cohorts')"
      ]
     },
     "execution_count": 63,
     "metadata": {},
     "output_type": "execute_result"
    },
    {
     "data": {
      "image/png": "[encoded data removed]",
      "text/plain": [
       "<Figure size 1200x500 with 1 Axes>"
      ]
     },
     "metadata": {},
     "output_type": "display_data"
    }
   ],
   "source": [
    "#Plot accuracy\n",
    "temp = r2_df.set_index('Month')\n",
    "temp.drop('index', axis = 1, inplace=True)\n",
    "\n",
    "ll = []\n",
    "for i in temp['R Square Score']:\n",
    "    if i>0.5:\n",
    "        ll.append(10)\n",
    "    else:\n",
    "        ll.append(-10)\n",
    "\n",
    "temp['cat'] = ll\n",
    "temp.drop('R Square Score', axis = 1, inplace=True)\n",
    "rank = temp.squeeze()\n",
    "pal = sns.color_palette(\"vlag\", len(temp))\n",
    "fig, ax = plt.subplots(figsize = (12,5))\n",
    "sns.barplot(data=r2_df, x='Month', y='R Square Score', palette=np.array(pal[::-1])[rank])\n",
    "ax.set_xlabel('Cohort', fontsize = 12)\n",
    "ax.set_ylabel('R Square Score', fontsize = 12)\n",
    "ax.set_title('Prediction Accuracy of Cumulative Retention Curve for 2019 Cohorts', fontsize = 15)"
   ]
  },
  {
   "cell_type": "code",
   "execution_count": null,
   "id": "28bbaea8",
   "metadata": {},
   "outputs": [],
   "source": []
  }
 ],
 "metadata": {
  "kernelspec": {
   "display_name": "Python 3.9 (tensorflow)",
   "language": "python",
   "name": "tensorflow"
  },
  "language_info": {
   "codemirror_mode": {
    "name": "ipython",
    "version": 3
   },
   "file_extension": ".py",
   "mimetype": "text/x-python",
   "name": "python",
   "nbconvert_exporter": "python",
   "pygments_lexer": "ipython3",
   "version": "3.9.13"
  }
 },
 "nbformat": 4,
 "nbformat_minor": 5
}
